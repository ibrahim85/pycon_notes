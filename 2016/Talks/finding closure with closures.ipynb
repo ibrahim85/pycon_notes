{
 "cells": [
  {
   "cell_type": "markdown",
   "metadata": {},
   "source": [
    "# Finding closure with closures\n",
    "\n",
    "Thomas Ballinger\n",
    "\n",
    "## Does Python even _have_ closures?\n",
    "spoiler: Yes\n",
    "\n",
    "## Example: \n",
    "\n",
    "say I have two functions that format some text\n",
    "... they implement `bold()`\n",
    "\n",
    "one is for html\n",
    "one is for terminal\n",
    "\n",
    "if I redefine some internal \"Global\" in my running scope, it doesn't change the \"Global\" within that function\n",
    "\n"
   ]
  },
  {
   "cell_type": "markdown",
   "metadata": {},
   "source": [
    "## Global variables aren't acutally global"
   ]
  },
  {
   "cell_type": "markdown",
   "metadata": {},
   "source": [
    "# So what is a closure?\n",
    "\n",
    "## Code + environment\n",
    "\n",
    "They refer to variables from an outer, nonglobal scope.\n",
    "With them, you can refer to variables in outer scopes, even after those variables have gone out of scope"
   ]
  },
  {
   "cell_type": "markdown",
   "metadata": {},
   "source": [
    "In python, you can modify:\n",
    "`my_module.GLOBAL` to change the value of these globals"
   ]
  },
  {
   "cell_type": "markdown",
   "metadata": {},
   "source": [
    "# Identifying the scope of a variable"
   ]
  },
  {
   "cell_type": "code",
   "execution_count": 4,
   "metadata": {
    "collapsed": true
   },
   "outputs": [],
   "source": [
    "def movie_titleize(phrase):\n",
    "    cap = phrase.title()\n",
    "    return capitialized + \": The Untold Story\""
   ]
  },
  {
   "cell_type": "markdown",
   "metadata": {},
   "source": [
    "The above function has only \"local\" variables"
   ]
  },
  {
   "cell_type": "markdown",
   "metadata": {},
   "source": [
    "In python, you can check this by using these properties:"
   ]
  },
  {
   "cell_type": "code",
   "execution_count": null,
   "metadata": {
    "collapsed": true
   },
   "outputs": [],
   "source": [
    "my_thing.__code__.co_varnames # local scope\n",
    "my_thing.__code__.co_names # global scope\n",
    "\n",
    "my_thing.__code__.co_freevars # Outer, nonglobal scope"
   ]
  },
  {
   "cell_type": "markdown",
   "metadata": {},
   "source": [
    "## Python 2.7: \"Weak Support\" for closures\n",
    "\n",
    "if you use assignment on something with an \"outer\" scope, you get an UnboundLocalError"
   ]
  },
  {
   "cell_type": "code",
   "execution_count": null,
   "metadata": {
    "collapsed": true
   },
   "outputs": [],
   "source": [
    "def foo(blah):\n",
    "    bar = None\n",
    "    def baz(fizz):\n",
    "        print fizz  # local\n",
    "        print blah  # outer scope\n",
    "        bar = 1  # Throws UnboundLocalError\n",
    "        "
   ]
  },
  {
   "cell_type": "markdown",
   "metadata": {},
   "source": [
    "### Python 3 allows you to do that\n",
    "with the `nonlocal` keyword"
   ]
  },
  {
   "cell_type": "code",
   "execution_count": null,
   "metadata": {
    "collapsed": true
   },
   "outputs": [],
   "source": []
  },
  {
   "cell_type": "code",
   "execution_count": null,
   "metadata": {
    "collapsed": true
   },
   "outputs": [],
   "source": []
  }
 ],
 "metadata": {
  "kernelspec": {
   "display_name": "Python 2",
   "language": "python",
   "name": "python2"
  },
  "language_info": {
   "codemirror_mode": {
    "name": "ipython",
    "version": 2
   },
   "file_extension": ".py",
   "mimetype": "text/x-python",
   "name": "python",
   "nbconvert_exporter": "python",
   "pygments_lexer": "ipython2",
   "version": "2.7.11"
  }
 },
 "nbformat": 4,
 "nbformat_minor": 0
}
