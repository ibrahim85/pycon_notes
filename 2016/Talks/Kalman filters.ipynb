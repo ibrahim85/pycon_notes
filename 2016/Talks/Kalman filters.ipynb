{
 "cells": [
  {
   "cell_type": "markdown",
   "metadata": {},
   "source": [
    "# Kalman filters for non-rocket science\n",
    "\n",
    "Elizabeth Ramirez\n",
    "\n",
    "Search: Rudolf Kalman\n"
   ]
  },
  {
   "cell_type": "markdown",
   "metadata": {},
   "source": [
    "# Author's note:\n",
    "\n",
    "This talk very math heavy... just a walk in the weeds solving matrix equations verbally... reading math off of the slides\n",
    "\n",
    "Personally, I don't digest information very well in that format. As such, I didn't really follow this talk very well.\n",
    "\n",
    "Do yourself a favor and just go read this instead:\n",
    "\n",
    "https://github.com/rlabbe/Kalman-and-Bayesian-Filters-in-Python\n",
    "\n",
    "\n"
   ]
  },
  {
   "cell_type": "markdown",
   "metadata": {},
   "source": []
  },
  {
   "cell_type": "markdown",
   "metadata": {},
   "source": []
  },
  {
   "cell_type": "markdown",
   "metadata": {},
   "source": []
  },
  {
   "cell_type": "markdown",
   "metadata": {},
   "source": []
  },
  {
   "cell_type": "markdown",
   "metadata": {},
   "source": []
  },
  {
   "cell_type": "markdown",
   "metadata": {},
   "source": []
  },
  {
   "cell_type": "markdown",
   "metadata": {},
   "source": []
  },
  {
   "cell_type": "markdown",
   "metadata": {},
   "source": []
  },
  {
   "cell_type": "markdown",
   "metadata": {},
   "source": []
  },
  {
   "cell_type": "markdown",
   "metadata": {},
   "source": []
  },
  {
   "cell_type": "markdown",
   "metadata": {},
   "source": []
  },
  {
   "cell_type": "markdown",
   "metadata": {},
   "source": []
  },
  {
   "cell_type": "markdown",
   "metadata": {},
   "source": []
  },
  {
   "cell_type": "markdown",
   "metadata": {},
   "source": []
  },
  {
   "cell_type": "markdown",
   "metadata": {},
   "source": []
  },
  {
   "cell_type": "markdown",
   "metadata": {},
   "source": []
  },
  {
   "cell_type": "markdown",
   "metadata": {},
   "source": []
  },
  {
   "cell_type": "markdown",
   "metadata": {},
   "source": [
    "# Rocket science\n",
    "\n",
    "Kalman filter was originally used for trajectory computation by NASA\n",
    "\n",
    "original code available: http://ibiblio.org/apollo\n",
    "\n",
    "\n",
    "Written in Apollo Guidance Computer Assembly (AGC4) language:\n",
    "\n",
    "CCS: compare and skip\n",
    "TS: transfer to storage\n",
    "CA: clear and add"
   ]
  },
  {
   "cell_type": "markdown",
   "metadata": {},
   "source": [
    "a# Non rocket science\n",
    "\n",
    "forecasting problems\n",
    "generalization of \"least squares model\"\n",
    "\n",
    "## Least squares\n",
    "\n",
    "take a linear system (A is a matrix)\n",
    "\n",
    "> Au = b\n",
    "\n",
    "if A is `square`:\n",
    "> u = A^-1 * b\n",
    "\n",
    "If A is not square: \n",
    "> m > n\n",
    "\n",
    "The system is __overdetermined__\n",
    "\n",
    "Example: \n",
    "> 100 points that fit a straght line Cx + D\n",
    "\n",
    "That's 100 equations with 2 unknowns\n",
    "\n",
    "\n",
    "### So what can we do?\n",
    "we can find a `best estimate` that minimizes the `mean squared errror`\n",
    "\n",
    "__*Note:*__ lots of math in the slides... refer to them\n",
    "\n",
    "\n",
    "## Covariance Matrix\n",
    "\n",
    "errors might be independent...\n",
    "\n",
    "but they may be correlated\n",
    "\n",
    "we can make a __weighting matrix__ that accounts for this\n",
    "\n",
    "\n",
    "## Recursive least squares\n",
    "so.\n",
    "many.\n",
    "maths.\n",
    "(seriously though look at the slide)\n"
   ]
  },
  {
   "cell_type": "markdown",
   "metadata": {},
   "source": []
  },
  {
   "cell_type": "code",
   "execution_count": null,
   "metadata": {
    "collapsed": true
   },
   "outputs": [],
   "source": []
  },
  {
   "cell_type": "code",
   "execution_count": null,
   "metadata": {
    "collapsed": true
   },
   "outputs": [],
   "source": []
  },
  {
   "cell_type": "code",
   "execution_count": null,
   "metadata": {
    "collapsed": true
   },
   "outputs": [],
   "source": []
  },
  {
   "cell_type": "code",
   "execution_count": null,
   "metadata": {
    "collapsed": true
   },
   "outputs": [],
   "source": []
  },
  {
   "cell_type": "code",
   "execution_count": null,
   "metadata": {
    "collapsed": true
   },
   "outputs": [],
   "source": []
  },
  {
   "cell_type": "code",
   "execution_count": null,
   "metadata": {
    "collapsed": true
   },
   "outputs": [],
   "source": []
  },
  {
   "cell_type": "code",
   "execution_count": null,
   "metadata": {
    "collapsed": true
   },
   "outputs": [],
   "source": []
  }
 ],
 "metadata": {
  "kernelspec": {
   "display_name": "Python 2",
   "language": "python",
   "name": "python2"
  },
  "language_info": {
   "codemirror_mode": {
    "name": "ipython",
    "version": 2
   },
   "file_extension": ".py",
   "mimetype": "text/x-python",
   "name": "python",
   "nbconvert_exporter": "python",
   "pygments_lexer": "ipython2",
   "version": "2.7.11"
  }
 },
 "nbformat": 4,
 "nbformat_minor": 0
}
