{
 "cells": [
  {
   "cell_type": "markdown",
   "metadata": {},
   "source": [
    "# Better testing with less code\n",
    "## Property based testing with Python\n",
    "\n",
    "Matt Bachmann\n",
    "\n",
    "https://github.com/Bachman1234"
   ]
  },
  {
   "cell_type": "markdown",
   "metadata": {},
   "source": [
    "# Example\n",
    "sorting a list of integers\n",
    "\n",
    "\n",
    "test some standard cases\n",
    "\n",
    "* try an empty list\n",
    "* test that a known list is sorted\n",
    "* etc\n"
   ]
  },
  {
   "cell_type": "markdown",
   "metadata": {},
   "source": [
    "# What's different about property-based testing\n",
    "\n",
    "Instead of hard coding data, you describe the inputs and expected behavrios\n",
    "\n",
    "\n",
    "args:\n",
    "  * list of integers\n",
    "  \n",
    "the result:\n",
    "  * a list\n",
    "  * all elements preserved\n",
    "  * results in ascending order"
   ]
  },
  {
   "cell_type": "markdown",
   "metadata": {},
   "source": [
    "# How do you do this in Python?\n",
    "\n",
    "use `Hypothesis`\n",
    "\n",
    "Hypothesis provides a set of decorators that you put on your test functions, to turn hard-coded test cases into powerful tests that search the entire space of possible inputs.\n",
    "\n",
    "* Hypothesis generates inputs (intelligently) to try and make your test fail\n",
    "* It also seeks to simplify the list of cases that it finds to find the simplest set of failures\n",
    "\n",
    "You can also build special objects. Not just \"this arg is this datatype\"\n",
    "* pick values from an enum\n",
    "* define min/max\n",
    "\n",
    "You can also hard-code a specific `@example` to always run"
   ]
  },
  {
   "cell_type": "markdown",
   "metadata": {},
   "source": [
    "# Notes about using hypothesis\n",
    "\n",
    "* it's actually hard to think this way\n",
    "* there's less code\n",
    "* nothing is hard coded\n",
    "* it's really cool, but it's not a magic bullet"
   ]
  },
  {
   "cell_type": "markdown",
   "metadata": {},
   "source": [
    "# Test patterns\n",
    "\n",
    "## It shall not explode\n",
    "Just let hypothesis run and make sure no errors happen\n",
    "\n",
    "## Reversible operations\n",
    "e.g. convert from one format to another, and back again (decoded -> encoded -> decoded)\n",
    "\n",
    "## Testing Oracle\n",
    "you have a system that is \"known correct\", and a system that is not known to be correct\n",
    "The goal is to gets that the fancy new system is working just as well as the scary old system that nobody wants to maintain anymore\n",
    "\n",
    "Hypothesis can just assert that across all inputs, the two functions behave the same\n",
    "\n",
    "## Stateful testing\n",
    "When you have a more interesting system to test.\n",
    "In the real world, ayou have state, side effects, etc\n",
    "\n",
    "* Define state\n",
    "* what operations can happen\n",
    "* what can't happen\n",
    "\n",
    "Hypothesis will generate cases and return a list of steps that reproduce the problem"
   ]
  },
  {
   "cell_type": "markdown",
   "metadata": {},
   "source": [
    "# Summary\n",
    "\n",
    "* Describe the input space\n",
    "* Describe the output\n",
    "* let the computer find bugs for you"
   ]
  },
  {
   "cell_type": "markdown",
   "metadata": {},
   "source": []
  },
  {
   "cell_type": "code",
   "execution_count": null,
   "metadata": {
    "collapsed": true
   },
   "outputs": [],
   "source": []
  },
  {
   "cell_type": "code",
   "execution_count": null,
   "metadata": {
    "collapsed": true
   },
   "outputs": [],
   "source": []
  },
  {
   "cell_type": "code",
   "execution_count": null,
   "metadata": {
    "collapsed": true
   },
   "outputs": [],
   "source": []
  },
  {
   "cell_type": "code",
   "execution_count": null,
   "metadata": {
    "collapsed": true
   },
   "outputs": [],
   "source": []
  }
 ],
 "metadata": {
  "kernelspec": {
   "display_name": "Python 2",
   "language": "python",
   "name": "python2"
  },
  "language_info": {
   "codemirror_mode": {
    "name": "ipython",
    "version": 2
   },
   "file_extension": ".py",
   "mimetype": "text/x-python",
   "name": "python",
   "nbconvert_exporter": "python",
   "pygments_lexer": "ipython2",
   "version": "2.7.11"
  }
 },
 "nbformat": 4,
 "nbformat_minor": 0
}
