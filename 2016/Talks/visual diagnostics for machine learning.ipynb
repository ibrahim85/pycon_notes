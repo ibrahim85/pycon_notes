{
 "cells": [
  {
   "cell_type": "markdown",
   "metadata": {},
   "source": [
    "# Visual Diagnostics for More Informed Machine Learning\n",
    "## Within and beyond Scikit-Learn\n",
    "\n",
    "Rebecca Bilbro\n",
    "pycon.districtdatalabs.com"
   ]
  },
  {
   "cell_type": "markdown",
   "metadata": {},
   "source": [
    "# Python makes machine learning easy:\n",
    "## Here's what you'd normally do\n",
    "\n",
    "* Prep data"
   ]
  },
  {
   "cell_type": "code",
   "execution_count": null,
   "metadata": {
    "collapsed": true
   },
   "outputs": [],
   "source": [
    "import pandas as pd\n",
    "PATH = 'data.csv'\n",
    "#..."
   ]
  },
  {
   "cell_type": "markdown",
   "metadata": {},
   "source": [
    "* pick model\n",
    "  * google \"which model is best for _____\"\n",
    "* fit model\n",
    "* validate model"
   ]
  },
  {
   "cell_type": "code",
   "execution_count": null,
   "metadata": {
    "collapsed": false
   },
   "outputs": [],
   "source": [
    "from sklearn.metrics import mean_squared error\n",
    "from sklearn.metrics import r2_score\n",
    "#..."
   ]
  },
  {
   "cell_type": "markdown",
   "metadata": {},
   "source": [
    "Or if you fail... try gridsearch"
   ]
  },
  {
   "cell_type": "markdown",
   "metadata": {},
   "source": [
    "* to deploy: use pipelines to package it up nicely"
   ]
  },
  {
   "cell_type": "markdown",
   "metadata": {},
   "source": [
    "# Realization:\n",
    "\n",
    "I have no idea what I'm doing!\n",
    "\n",
    "The problem is you can't really see or understand what your model is actually doing."
   ]
  },
  {
   "cell_type": "markdown",
   "metadata": {},
   "source": [
    "# Informed machine learning is hard\n",
    "\n",
    "## Anscombe's Quartet\n",
    "An example of 4 datasets that have identical statistical quartet. By most metrics, the data is the same.\n",
    "However, if you graph them... you instantly see that they're very different\n",
    "\n"
   ]
  },
  {
   "cell_type": "markdown",
   "metadata": {},
   "source": [
    "# How do you get to a place where you actually know what you're doing?\n",
    "\n",
    "## The model selection triple\n",
    "Normally people focus too much on picking the best model, but there's more to it than that:\n",
    "* feature analysis\n",
    "* model selection\n",
    "* hyperparameter tuning"
   ]
  },
  {
   "cell_type": "markdown",
   "metadata": {},
   "source": [
    "## Visual veature analysis\n",
    "\n",
    "### Box plots\n",
    "very quickly see central tendency and distribution\n",
    "\n",
    "### Histogram\n",
    "Examine a single feature's distribution\n",
    "\n",
    "### Scatterplots aka sploms\n",
    "pairwise plots of features, to see relationships between features\n",
    "\n",
    "### Jointplots\n",
    "Examine relationships between a single pair\n",
    "\n",
    "### Radviz (radial visualizations)\n",
    "Plot features on a unit circle, to see how much \"pull\" each one has\n",
    "\n",
    "### Parallel coordinates\n",
    "hunting for \"separability\" of features, each point on the X asis is a feature, and datapoints are a line segment\n",
    "\n",
    "\n",
    "## Model Selection\n",
    "For starters, use the \"choosing the right estimator\" flowchart in scikit-learn\n",
    "\n",
    "### Cluster comparison\n",
    "visualize how different models behave across different datasets\n",
    "\n",
    "### Classifier comparison\n",
    "visualize the patterns in how a (classifier) algorithm slices the dataset\n",
    "\n",
    "### Model Families\n",
    "graph traversal as a means of model selection\n",
    "\n",
    "## Model evaluation tools\n",
    "### Classification heatmap\n",
    "### ROC-AUC plots\n",
    "### Prediction error plots\n",
    "visualize the errors that different models make relative to eachother\n",
    "### Residual plots\n",
    "see which models are doing best, and why\n",
    "\n",
    "## Visual tuning\n",
    "To really make good use of gridsearch, you have to know about the hyperparameters... otherwise you're just shooting in the dark\n",
    "\n",
    "### Visual gridsearch\n",
    "Draw heatmaps"
   ]
  },
  {
   "cell_type": "markdown",
   "metadata": {},
   "source": [
    "# How do we facilitate different workflows?\n",
    "\n",
    "experimental project:"
   ]
  },
  {
   "cell_type": "code",
   "execution_count": null,
   "metadata": {
    "collapsed": true
   },
   "outputs": [],
   "source": [
    "pip install yellowbrick"
   ]
  },
  {
   "cell_type": "markdown",
   "metadata": {},
   "source": [
    "# Yellowbrick\n",
    "A wrapper for useful visualization tools\n",
    "\n",
    "The goal is to put these things under a common API, and make it as easy to use as scikit-learn\n",
    "Using visualization as a tool for informed machine learning, and decision-based model selection\n",
    "\n",
    "\n",
    "For more info:\n",
    "http://blog.districtdatalabs.com\n",
    "\n",
    "http://github.com/disctrictdatalabs\n",
    "\n",
    "See also: Trinket"
   ]
  },
  {
   "cell_type": "code",
   "execution_count": null,
   "metadata": {
    "collapsed": true
   },
   "outputs": [],
   "source": []
  },
  {
   "cell_type": "code",
   "execution_count": null,
   "metadata": {
    "collapsed": true
   },
   "outputs": [],
   "source": []
  },
  {
   "cell_type": "code",
   "execution_count": null,
   "metadata": {
    "collapsed": true
   },
   "outputs": [],
   "source": []
  },
  {
   "cell_type": "code",
   "execution_count": null,
   "metadata": {
    "collapsed": true
   },
   "outputs": [],
   "source": []
  }
 ],
 "metadata": {
  "kernelspec": {
   "display_name": "Python 2",
   "language": "python",
   "name": "python2"
  },
  "language_info": {
   "codemirror_mode": {
    "name": "ipython",
    "version": 2
   },
   "file_extension": ".py",
   "mimetype": "text/x-python",
   "name": "python",
   "nbconvert_exporter": "python",
   "pygments_lexer": "ipython2",
   "version": "2.7.11"
  }
 },
 "nbformat": 4,
 "nbformat_minor": 0
}
