{
 "cells": [
  {
   "cell_type": "markdown",
   "metadata": {},
   "source": [
    "# Machete-mode debugging:\n",
    "## Hacking your way out of a tight spot\n",
    "\n",
    "By Ned Batchelder\n",
    "http://bit.ly/mdebug\n"
   ]
  },
  {
   "cell_type": "markdown",
   "metadata": {},
   "source": [
    "# Python can be chaotic\n",
    " * dynamic typing\n",
    " * no protected private, final - things can change\n",
    " * Python doesn't have a way to prevent things from happening\n",
    " * NOthing is off limits"
   ]
  },
  {
   "cell_type": "markdown",
   "metadata": {},
   "source": [
    "# This chaos can be used to our advantage\n",
    "we can use it to get out\n",
    "\n",
    "\n",
    "...this code isn't meant to sit there in production\n",
    "It's awful, so get rid of it after you're done using it\n"
   ]
  },
  {
   "cell_type": "markdown",
   "metadata": {},
   "source": [
    "# Case 1: double importing\n",
    "\n",
    "Modules imported more than once\n",
    "classes were defined twice\n",
    "django was unhappy about this\n",
    "\n"
   ]
  },
  {
   "cell_type": "code",
   "execution_count": null,
   "metadata": {
    "collapsed": true
   },
   "outputs": [],
   "source": [
    "# See slides for code on how module imports work\n",
    "# The gist: python tries to return the same module when you import"
   ]
  },
  {
   "cell_type": "markdown",
   "metadata": {},
   "source": [
    "Somehow, this promise got broken... but how?"
   ]
  },
  {
   "cell_type": "markdown",
   "metadata": {},
   "source": [
    "To find out, he modified the actual django model in place (which you generally shouldn't do)\n",
    "Using the `inspect` module, he added some code that printed the stack to a file when the module gets imported"
   ]
  },
  {
   "cell_type": "markdown",
   "metadata": {},
   "source": [
    "Big shocker... it's imported twice!"
   ]
  },
  {
   "cell_type": "markdown",
   "metadata": {},
   "source": [
    "## So what happened?"
   ]
  },
  {
   "cell_type": "markdown",
   "metadata": {},
   "source": [
    "the import was getting to the same module in two different ways:\n",
    "* foo.bar.bin\n",
    "* foo.bin\n",
    "\n",
    "## Why?\n",
    "Some joker was using `sys.path.append()` to monkey with the path"
   ]
  },
  {
   "cell_type": "markdown",
   "metadata": {},
   "source": [
    "# Lessons:\n",
    "* `import` actually executes code\n",
    "  * We could use this fact to help find the problem\n",
    "  * however, this generally shouldn't be used in production\n",
    "* In the case of debugging: \"wrong\" is okay\n",
    "  * This code lives 10 minutes... don't commit it\n",
    "* Avoid `sys.path` manipulation"
   ]
  },
  {
   "cell_type": "markdown",
   "metadata": {},
   "source": [
    "# Case 2: Tests leaving temp files behind\n",
    "\n",
    "* ~8000 tests and we're not sure where these directories and files are being created\n",
    "* as a dynamic language, Python doesn't have the same static analysis tools that other languages have\n",
    "* can't write stuff into test files because the test will fail"
   ]
  },
  {
   "cell_type": "markdown",
   "metadata": {},
   "source": [
    "## Let's monkeypatch the standard library\n",
    "\n",
    "We want to stuff information into the file name (lol)"
   ]
  },
  {
   "cell_type": "code",
   "execution_count": null,
   "metadata": {
    "collapsed": true
   },
   "outputs": [],
   "source": [
    "# We make a function `my_sneaky_function()` that re-defines the function that normally writes the file"
   ]
  },
  {
   "cell_type": "markdown",
   "metadata": {},
   "source": [
    "### Read the source!\n",
    "Found : `get_candidate_names` which is where these tempfile things get their names"
   ]
  },
  {
   "cell_type": "markdown",
   "metadata": {},
   "source": [
    "## How do we get in our patch before the function is used?\n",
    "\n",
    "Python has a feature where a `*.pth` file gets executed first if:\n",
    "* the first line starts : `import `\n",
    "\n",
    "so we can make our own version of `get_candidate_names()` in the standard library"
   ]
  },
  {
   "cell_type": "markdown",
   "metadata": {},
   "source": [
    "# Lessons:\n",
    "* std lib is readable\n",
    "  * It's on your disk... go look at it\n",
    "  * It's also patchable\n",
    "* Use whatever you can touch and change\n",
    "  * That dirty feeling can go away after 10 minutes\n",
    "  \n",
    "* Look into AddCleanup for unit testing"
   ]
  },
  {
   "cell_type": "markdown",
   "metadata": {},
   "source": [
    "# Case 3: Who's modifying `sys.path`?\n",
    "\n",
    "* Something's modifying it incorrectly\n",
    "* grep didn't find it\n",
    "* must be in 3rd party code? (because we didn't find it in grep\n",
    "\n",
    "## Data breakpoints\n",
    "\"Break when this data changes in a certain way\"\n",
    "`pdb` doesn't have this :(\n",
    "\n",
    "Instead: Write a trace function\n",
    "\n",
    "\n",
    "Trace functions are executed on every line (makes it slow, but that doesn't matter)"
   ]
  },
  {
   "cell_type": "code",
   "execution_count": 2,
   "metadata": {
    "collapsed": true
   },
   "outputs": [],
   "source": [
    "# See slides for relevant example code'\n",
    "\n",
    "def trace(frame, event, arg):\n",
    "    if sys.path[0].endswith('/lib'):\n",
    "        pdb.set_trace() # Break into the debugger... a badly named function that is useful\n",
    "    return trace\n",
    "\n",
    "sys.settrace(trace)"
   ]
  },
  {
   "cell_type": "markdown",
   "metadata": {},
   "source": [
    "## Culprit:\n",
    "nose: it has a \"helpful\" feature that modifies the path based on a folder name... in this case we didn't want that behavior"
   ]
  },
  {
   "cell_type": "markdown",
   "metadata": {},
   "source": [
    "## Lessons:\n",
    "\n",
    "* It's not just _your_ code\n",
    "* dynamic analysis is your friend\n",
    "* sometimes you have to use a \"big hammer\"\n",
    "  * this might be overkill, but so what"
   ]
  },
  {
   "cell_type": "markdown",
   "metadata": {},
   "source": [
    "# Case 4: Why is random different?\n",
    "\n",
    "\n",
    "* We want random, but repeatable code\n",
    "* We seed the random generator\n",
    "* For some reason despite the seed, the _first_ result was different from all other calls"
   ]
  },
  {
   "cell_type": "markdown",
   "metadata": {},
   "source": [
    "## Let's divide by 0!\n",
    "Use `1/0` as a booby trap\n",
    "\n",
    "Monkey patch `random` with: `lambda: 1/0`\n",
    "\n",
    "your code probably doesn't throw this error normally"
   ]
  },
  {
   "cell_type": "markdown",
   "metadata": {},
   "source": [
    "## Culprit:\n",
    "During import, someone called `random.random()` with a default seed.\n",
    "\n",
    "## Lessons:\n",
    "* Exceptions are a useful tool to get information\n",
    "  * The message can be dynamic\n",
    "* Don't be afraid to blow things up\n",
    "* Sometimes you get lucky\n",
    "  * If not, you have to try something else\n",
    "* Don't share global state\n",
    "  * There was one global random number sequence (that anyone can screw up because it's mutable)\n",
    "* Use your own `random()` object\n",
    "* _Do_ suspect 3rd party code"
   ]
  },
  {
   "cell_type": "markdown",
   "metadata": {},
   "source": [
    "# Overall lessons\n",
    "\n",
    "* Break convention to get what you need\n",
    "  * But only for debug\n",
    "* Play with running code (dynamic analysis)\n"
   ]
  },
  {
   "cell_type": "code",
   "execution_count": null,
   "metadata": {
    "collapsed": true
   },
   "outputs": [],
   "source": []
  },
  {
   "cell_type": "code",
   "execution_count": null,
   "metadata": {
    "collapsed": true
   },
   "outputs": [],
   "source": []
  },
  {
   "cell_type": "code",
   "execution_count": null,
   "metadata": {
    "collapsed": true
   },
   "outputs": [],
   "source": []
  },
  {
   "cell_type": "code",
   "execution_count": null,
   "metadata": {
    "collapsed": true
   },
   "outputs": [],
   "source": []
  }
 ],
 "metadata": {
  "kernelspec": {
   "display_name": "Python 2",
   "language": "python",
   "name": "python2"
  },
  "language_info": {
   "codemirror_mode": {
    "name": "ipython",
    "version": 2
   },
   "file_extension": ".py",
   "mimetype": "text/x-python",
   "name": "python",
   "nbconvert_exporter": "python",
   "pygments_lexer": "ipython2",
   "version": "2.7.11"
  }
 },
 "nbformat": 4,
 "nbformat_minor": 0
}
