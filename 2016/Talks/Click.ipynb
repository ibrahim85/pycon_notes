{
 "cells": [
  {
   "cell_type": "markdown",
   "metadata": {},
   "source": [
    "# Click\n",
    "## A pleasure to write, a pleasure to use\n",
    "\n",
    "Sebastian Vetter\n",
    "\n",
    "The goal: to turn repetitive tasks into easy-to-use command line utilities"
   ]
  },
  {
   "cell_type": "markdown",
   "metadata": {},
   "source": [
    "# Terminology\n",
    "* Parameter - arguments or options\n",
    "  * Argument - required parameter\n",
    "  * Option - an optional parameter, with a default value\n",
    "  \n",
    "* (Sub-)Command - performs some action\n",
    " * Nested cmmands are allowed\n",
    " * Groups of sub-commands\n",
    " * has options and arguments"
   ]
  },
  {
   "cell_type": "markdown",
   "metadata": {},
   "source": [
    "# What normal CLIs do:\n",
    "\n",
    "read `sys.argv` and parse out parameters"
   ]
  },
  {
   "cell_type": "code",
   "execution_count": 1,
   "metadata": {
    "collapsed": true
   },
   "outputs": [],
   "source": [
    "#see slides for example code"
   ]
  },
  {
   "cell_type": "markdown",
   "metadata": {},
   "source": [
    "## But that's awful\n",
    "* you have to parse it yourself\n",
    "* there's no input validation\n",
    "* there's no help message\n",
    "\n",
    "## There are other options\n",
    "Like:\n",
    "\n",
    "* optparse\n",
    "* argparse\n",
    "* docopt\n",
    "... and more\n",
    "\n",
    "### Optparse\n",
    "* in stdlib\n",
    "* however, it's deprecated in pyton 3.2\n",
    "* still no validation\n",
    "\n",
    "### Argparse\n",
    "* replaces optparse\n",
    "* similar to optparse\n",
    "* adds validation\n",
    "\n",
    "### docopt\n",
    "* define the interface with a special docstring syntax\n",
    "* worth checking out"
   ]
  },
  {
   "cell_type": "markdown",
   "metadata": {},
   "source": [
    "# Why Click?\n",
    "\n",
    "* intuitive\n",
    "* nestable and composable\n",
    "* better handling of input and output"
   ]
  },
  {
   "cell_type": "markdown",
   "metadata": {},
   "source": [
    "# Here's an example:\n"
   ]
  },
  {
   "cell_type": "code",
   "execution_count": null,
   "metadata": {
    "collapsed": true
   },
   "outputs": [],
   "source": [
    "pip install click"
   ]
  },
  {
   "cell_type": "markdown",
   "metadata": {},
   "source": [
    "run this Cookiecutter template:\n",
    "\n",
    "http://bit.ly/click-cookiecutter"
   ]
  },
  {
   "cell_type": "markdown",
   "metadata": {},
   "source": [
    "Click commands are based on a decorator `@click.command()`\n",
    "You can also add parameters this way `@click.argument()`\n",
    "\n",
    "The `env_var` kwarg can also pull argument values out of environment variables for you"
   ]
  },
  {
   "cell_type": "markdown",
   "metadata": {},
   "source": [
    "## Command groups"
   ]
  },
  {
   "cell_type": "code",
   "execution_count": null,
   "metadata": {
    "collapsed": true
   },
   "outputs": [],
   "source": [
    "@click.group()\n",
    "def main()\n",
    "   #..."
   ]
  },
  {
   "cell_type": "markdown",
   "metadata": {},
   "source": [
    "Now, your function `main()` is a decorator"
   ]
  },
  {
   "cell_type": "code",
   "execution_count": null,
   "metadata": {
    "collapsed": true
   },
   "outputs": [],
   "source": [
    "@main.command()\n",
    "def foo():\n",
    "    #..."
   ]
  },
  {
   "cell_type": "markdown",
   "metadata": {},
   "source": [
    "## Context\n",
    "(global settings)\n",
    "\n",
    "You don't have to repeat yourself if many commands have the same options.\n",
    "\n",
    "Options and arguments can be moved to the definition of the group (above `main()`, in this case)\n",
    "\n",
    "using `@click.pass_context` allows the main entry points to forward the context object along to other commands in the group."
   ]
  },
  {
   "cell_type": "markdown",
   "metadata": {},
   "source": [
    "## Documentation\n",
    "Click automatically includes your docstrings as a help message.\n",
    "\n",
    "You can also set the `help` kwarg in the decorator to set your own help message\n",
    "\n",
    "Click neatly formats the help message for you"
   ]
  },
  {
   "cell_type": "markdown",
   "metadata": {},
   "source": [
    "# Things to look into\n",
    "* env vars\n",
    "* parameter types\n",
    "* built-in testing\n",
    "* bash autocomplete!!"
   ]
  },
  {
   "cell_type": "code",
   "execution_count": null,
   "metadata": {
    "collapsed": true
   },
   "outputs": [],
   "source": []
  },
  {
   "cell_type": "code",
   "execution_count": null,
   "metadata": {
    "collapsed": true
   },
   "outputs": [],
   "source": []
  },
  {
   "cell_type": "code",
   "execution_count": null,
   "metadata": {
    "collapsed": true
   },
   "outputs": [],
   "source": []
  },
  {
   "cell_type": "code",
   "execution_count": null,
   "metadata": {
    "collapsed": true
   },
   "outputs": [],
   "source": []
  }
 ],
 "metadata": {
  "kernelspec": {
   "display_name": "Python 2",
   "language": "python",
   "name": "python2"
  },
  "language_info": {
   "codemirror_mode": {
    "name": "ipython",
    "version": 2
   },
   "file_extension": ".py",
   "mimetype": "text/x-python",
   "name": "python",
   "nbconvert_exporter": "python",
   "pygments_lexer": "ipython2",
   "version": "2.7.11"
  }
 },
 "nbformat": 4,
 "nbformat_minor": 0
}
