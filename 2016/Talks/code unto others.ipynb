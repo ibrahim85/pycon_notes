{
 "cells": [
  {
   "cell_type": "markdown",
   "metadata": {},
   "source": [
    "# Code Unto Others\n",
    "\n",
    "Nathaniel Manista and Augie Fackler\n",
    "\n",
    "\n",
    "You're missing a lot if you're reading this... watch the video"
   ]
  },
  {
   "cell_type": "markdown",
   "metadata": {},
   "source": [
    "# We have a big giant class that's ugly\n",
    "...but\n",
    "* The program works\n",
    "* the users don't care\n",
    "\n",
    "## So is this a problem?\n",
    "\n",
    "YES!\n",
    "  * Software is made out of people\n",
    "  * Readability counts"
   ]
  },
  {
   "cell_type": "markdown",
   "metadata": {},
   "source": [
    "# Things that are important for readability\n",
    "* Keep it cohesive\n",
    "  * if you read the first half, you should be able to guess what's in the 2nd half\n",
    "* don't mix function and convenience\n",
    "* don't mix levels of abstraction\n",
    "* keep things (functions, classes, modules) short!"
   ]
  },
  {
   "cell_type": "markdown",
   "metadata": {},
   "source": [
    "# This wasn't malicious\n",
    "\n",
    "Nobody planned to make this code hard to read... it just happened\n",
    "\n",
    "\n",
    "## During code review, we look at:\n",
    "* Does this do the thing that we need\n",
    "* Does the change make sense\n",
    "\n",
    "Over time, this grows incrementally, without anyone looking at the bigger picture"
   ]
  },
  {
   "cell_type": "markdown",
   "metadata": {},
   "source": [
    "# Just because the problem is hard, doesn't mean the code has to be hard to read\n",
    "\n",
    "It should be easy to see how program control is passed, and where state is changed\n",
    "\n",
    "* \"Do where the doing is simplest\"\n",
    "  * screen out background noise\n",
    "  * Example: placing code at class-scope (even a simple one) creates questions\n",
    "    * Does it need to be a class?\n",
    "    * If the class cannot function without this... then it goes in the class\n",
    "    * Otherwise...this is `python`, you can put things in the module-scope\n"
   ]
  },
  {
   "cell_type": "markdown",
   "metadata": {},
   "source": [
    "## When to use classes\n",
    "* To structure some data\n",
    "* To define a type\n",
    "* to create an arbitrary amount of instances of objects that behave the same way\n",
    "\n",
    "Structuing data shouldn't be mixed with the other two\n",
    "\n",
    "### Classes are not functions!\n",
    "A class that is just constructed and a single method is called... that class is crying out to be a function\n",
    "\n",
    "### Methods can be used as namespaces\n",
    "You don't _need_ a class just to define a namespace\n",
    "\n",
    "### Use the AbstractBaseClass for polymorphism"
   ]
  },
  {
   "cell_type": "markdown",
   "metadata": {},
   "source": [
    "# Design of classes\n",
    "\n",
    "* Avoid self-use of public APIs\n",
    "* Avoid passing the `self` reference out of the class\n",
    "    * what you pass can get any public method called on it\n",
    "    * you probably are better off passing a subset of your attributes as their own type\n",
    "* Minimize instance state\n",
    "  * Long lived objects that grow large can cause problems (e.g. memory leaks)"
   ]
  },
  {
   "cell_type": "markdown",
   "metadata": {},
   "source": [
    "# What about modules?\n",
    "\n",
    "* imports always go at the __top__!\n",
    "* Import modules that you're referencing\n",
    "  * for example if some code returns a type that is defined elsewhere, import that module\n",
    "* default to making things private until you've actually made the decision to make it part of the public API"
   ]
  },
  {
   "cell_type": "markdown",
   "metadata": {},
   "source": [
    "# Lessons\n",
    "\n",
    "* If you have been immersed in a problem day and night, you're not the best judge of what is obvious and what isn't\n",
    "  * Sometimes arbitrary limits (like line, function, and module lengths) can help here\n",
    "* Break things up by separating intermediate concepts rather than doing A->Z in one single monolithic component\n",
    "* Don't abbreviate when naming (you can use existing ones, but don't invent them)\n",
    "* introduce small utility functions before using them at a higher level\n",
    "  * sort functions in define-before-use order\n",
    "  * this generally brings `_private` functions to the top\n",
    "  * common gripe: \"I want people to see my public stuff without scrolling\"\n",
    "    * Answer: That's what auto-generated docs are for!"
   ]
  },
  {
   "cell_type": "code",
   "execution_count": null,
   "metadata": {
    "collapsed": true
   },
   "outputs": [],
   "source": []
  },
  {
   "cell_type": "code",
   "execution_count": null,
   "metadata": {
    "collapsed": true
   },
   "outputs": [],
   "source": []
  },
  {
   "cell_type": "code",
   "execution_count": null,
   "metadata": {
    "collapsed": true
   },
   "outputs": [],
   "source": []
  },
  {
   "cell_type": "code",
   "execution_count": null,
   "metadata": {
    "collapsed": true
   },
   "outputs": [],
   "source": []
  }
 ],
 "metadata": {
  "kernelspec": {
   "display_name": "Python 2",
   "language": "python",
   "name": "python2"
  },
  "language_info": {
   "codemirror_mode": {
    "name": "ipython",
    "version": 2
   },
   "file_extension": ".py",
   "mimetype": "text/x-python",
   "name": "python",
   "nbconvert_exporter": "python",
   "pygments_lexer": "ipython2",
   "version": "2.7.11"
  }
 },
 "nbformat": 4,
 "nbformat_minor": 0
}
