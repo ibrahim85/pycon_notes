{
 "cells": [
  {
   "cell_type": "markdown",
   "metadata": {},
   "source": [
    "# Python Sorted Collections\n",
    "\n",
    "Grant Jenks\n",
    "\n",
    "http://www.grantjenks.com/docs/sortedcontainers/introduction.html"
   ]
  },
  {
   "cell_type": "markdown",
   "metadata": {},
   "source": [
    "* heapq\n",
    "* bisect\n",
    "* queue\n",
    "\n",
    "collections.OrderedDict is *not* what you think it is\n",
    "\n",
    "none of these fit the bill\n",
    "\n",
    "Python has to depend on external (non stdlib) "
   ]
  },
  {
   "cell_type": "markdown",
   "metadata": {},
   "source": [
    "# Proposed new types\n",
    "\n",
    "* SortedList\n",
    "* SortedDict\n",
    "* SortedSet\n"
   ]
  },
  {
   "cell_type": "markdown",
   "metadata": {},
   "source": [
    "# History\n",
    "\n",
    "\n",
    "* Blist - 2006 - B-Tree based replacement for built in `list`, pretty good  API\n",
    "* sortedcollection - 2010 - by Raymond Hettinger: linked in the stdlib docs (slows down after 10k items)\n",
    "  * Mostly meant for read-only workloads\n",
    "* bintrees = 2010 - Multiple tree implementations, extends blist\n",
    "* banyan - 2013 - short-lived but very fast (C++)\n",
    "* skiplistcollections - 2013 - pure python, and very fast. Not a tree"
   ]
  },
  {
   "cell_type": "markdown",
   "metadata": {},
   "source": [
    "# PYPI yields way too many answers to this question\n",
    "and google `site:` is better\n",
    "\n",
    "> There should be one right way to do it"
   ]
  },
  {
   "cell_type": "markdown",
   "metadata": {},
   "source": [
    "# Enter SortedContainers\n",
    "> insert joke about why we need another standard\n",
    " \n",
    " pure python, but \"as fast as C extensions\"\n",
    " tested (100% coverage!)\n",
    " \n",
    "> the slides have some graphs comparing the performance of SortedContainers against other implementations"
   ]
  },
  {
   "cell_type": "markdown",
   "metadata": {},
   "source": [
    "# Features\n",
    "\n",
    "* pop\n",
    "* bisect_right\n",
    "* irange - yeilds all keys in sorted order in that range\n",
    "* iloc - the same as pandas\n",
    "* islice - positional index slicing, yeilds iterator over a range"
   ]
  },
  {
   "cell_type": "markdown",
   "metadata": {},
   "source": [
    "# Under the hood\n",
    "Why is it so fast?\n",
    "\n",
    "\n",
    "`bisect` does the heavy lifting\n",
    "\n",
    "## Basic structure\n",
    "* `_lists`: a list of sub-lists, maintained in sorted order (a B-tree)\n",
    "* `_maxes`: a list of the maximum values in each sub-list\n",
    "* `load_factor`: \n",
    "  * when a sub-list grows too large, the list is split in half\n",
    "  * when a sub-list shrinks too small, it is combined with the adjacent lists\n",
    "\n",
    "\n",
    "# Builtin types are __fast__\n",
    "because they're C, and they've had years of optimization\n",
    "\n",
    "* Program your interpretter\n",
    "\n",
    "\n",
    "# Memory is tiered\n",
    "* ~12 registerd\n",
    "* L1 cache: ~32KB\n",
    "* L2 cache: 256KB\n",
    "* L3 cache, shared 8mb (if you even have it)\n",
    "* many gigabytes of RAM\n",
    "\n",
    "* The higher you get in memory hierarchy, the slower it is\n",
    "* Because of how CPUs work, sequential memory access is very fast (they predict what you're doing)\n",
    "* Random, or data-dependent (pointers) lookups are slow because they don't have this advantage\n",
    "\n",
    "At large scales, binary trees do more data-dependent memory lookups than SortedList does\n",
    "\n",
    "\n"
   ]
  },
  {
   "cell_type": "markdown",
   "metadata": {},
   "source": [
    "> Look up Grant Jenks' blog post about this"
   ]
  },
  {
   "cell_type": "markdown",
   "metadata": {},
   "source": [
    "__Note from Raphael__: I had a long hallway conversation with Raymond Hettinger (Python core dev... author of `Collections` module) about this talk, and I extracted some points that should be added here:\n",
    "\n",
    "* There is no singular sorted collection implementation that is optimal for all use cases\n",
    "  * e.g. Mostly reading vs Mostly writing\n",
    "* Some methods exposed in the `SortedContainer` package (like `bisect`) are just forwarding along implementation details, and probably don't belong in the public API.\n",
    "  * the usage of these should probably be avoided in most cases\n",
    "  * The reasoning here, is that by exposing these things you encourage a pattern of usage that strays from the purpose of the package/module/class/etc\n",
    "* There's some violation here of the original concepts behind the original types that have \"sorted\" counterparts here\n",
    "  * For instance, a `set` doesn't really have any business being sorted\n",
    "    * `sets` are designed for removing duplicates, and quick membership tests\n",
    "* the impressive performance, and testimonials presented about `SortedContainers` will probably lead to a call to add this to the stdlib. There's some interesting reasons why this isn't straightforward:\n",
    "  * Python doesn't want to be opinionated, especially when there are different optimal ways do to things depending on the use case\n",
    "    * the preferred route is to provide powerful building blocks to make these things possible\n",
    "      * e.g.: requests is better off outside of stdlib\n",
    "  * The API this package exposes (in its current form) promotes some less than ideal usages\n",
    "    * generally, this leads to feature requests, bugs, etc that seek to optimize these cases, while degrading the actual intended case\n",
    "    * For example: if you added a numeric index to *all* dictionaries, people who aren't even using that functionality have to deal with the added memory consumption for no added benefit\n",
    "  * This is probably going to launch a big \"war\" about adding `SortedCollections` to the stdlib, and it will be interesting to watch the drama unfold\n",
    "    * grab your popcorn\n",
    "    "
   ]
  },
  {
   "cell_type": "code",
   "execution_count": null,
   "metadata": {
    "collapsed": true
   },
   "outputs": [],
   "source": []
  },
  {
   "cell_type": "code",
   "execution_count": null,
   "metadata": {
    "collapsed": true
   },
   "outputs": [],
   "source": []
  },
  {
   "cell_type": "code",
   "execution_count": null,
   "metadata": {
    "collapsed": true
   },
   "outputs": [],
   "source": []
  },
  {
   "cell_type": "code",
   "execution_count": null,
   "metadata": {
    "collapsed": true
   },
   "outputs": [],
   "source": []
  },
  {
   "cell_type": "code",
   "execution_count": null,
   "metadata": {
    "collapsed": true
   },
   "outputs": [],
   "source": []
  },
  {
   "cell_type": "code",
   "execution_count": null,
   "metadata": {
    "collapsed": true
   },
   "outputs": [],
   "source": []
  },
  {
   "cell_type": "code",
   "execution_count": null,
   "metadata": {
    "collapsed": true
   },
   "outputs": [],
   "source": []
  },
  {
   "cell_type": "code",
   "execution_count": null,
   "metadata": {
    "collapsed": true
   },
   "outputs": [],
   "source": []
  },
  {
   "cell_type": "code",
   "execution_count": null,
   "metadata": {
    "collapsed": true
   },
   "outputs": [],
   "source": []
  }
 ],
 "metadata": {
  "kernelspec": {
   "display_name": "Python 2",
   "language": "python",
   "name": "python2"
  },
  "language_info": {
   "codemirror_mode": {
    "name": "ipython",
    "version": 2
   },
   "file_extension": ".py",
   "mimetype": "text/x-python",
   "name": "python",
   "nbconvert_exporter": "python",
   "pygments_lexer": "ipython2",
   "version": "2.7.11"
  }
 },
 "nbformat": 4,
 "nbformat_minor": 0
}
