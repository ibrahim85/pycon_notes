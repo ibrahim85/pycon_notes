{
 "cells": [
  {
   "cell_type": "markdown",
   "metadata": {},
   "source": [
    "# A beginner's guide to Deep Learning\n",
    "\n",
    "Irene Chen\n",
    "\n",
    "Bird's eye view of Deep learning\n",
    "This aims to be a talk that steers you into the 13 million results you get when you search Google for \"Deep Learning\"\n"
   ]
  },
  {
   "cell_type": "markdown",
   "metadata": {},
   "source": [
    "## What is deep learning?\n",
    "Teaching computers to learn\n",
    "with the goal of getting them to behave like humans (or better)\n",
    "\n",
    "### Deep learning is like a rocket:\n",
    "You need a massive, powerful engine (neural network), and massive amounts of fuel (data)"
   ]
  },
  {
   "cell_type": "markdown",
   "metadata": {},
   "source": [
    "# ML basics:\n",
    "\n",
    "## Classifier\n",
    "Takes in some input and scores against one of the 2 or more classes it is meant to distinguish\n",
    "\n",
    "e.g.: Is this avocado ripe?\n",
    "    Inputs: size, \"squishyness\", and color\n",
    "    \n",
    "You use data to train the model by feeding it data\n",
    "\n",
    "\n",
    "### Non \"deep learning\" solutions:\n",
    "logistic regression\n",
    "naieve bayes\n",
    "random forest\n",
    "etc...\n",
    "\n",
    "### What's different about deep learning?\n",
    "* Takes longer to train\n",
    "* The bigger the volume of the data, the more this solution fits\n",
    "* large number of classes to predict (ie pick a single person's face out of a picture that might have _anyone_ in it)\n",
    "\n",
    "\n"
   ]
  },
  {
   "cell_type": "markdown",
   "metadata": {},
   "source": [
    "# Neural nets\n",
    "\n",
    "## Structure\n",
    "* Input nodes\n",
    "* Hidden layers (where the work is done)\n",
    "* Output nodes\n",
    "\n",
    "Nodes are interconnected in a web (or graph), each one has one or more connections, the value of each node is a weighted (sigmoid) calculation based on the value(s) of its input(s)\n",
    "\n",
    "\n",
    "### Forward propagation\n",
    "Carrying forward the values from each layer until the output layer produces a value\n",
    "\n",
    "### But where do the weights come from?\n",
    "That's what you train!\n",
    "\n",
    "\n",
    "### Backpropagation\n",
    "Selects the weight that minimizes the error produced by the current output\n",
    "\n",
    "* to start, weights are arbitrary (or random)\n",
    "* calculate the value and compare against the actual value we wanted\n",
    "* with some fancy math, you adjust the weights\n",
    "  * values of nodes\n",
    "  * amount of error\n",
    "  * weights of nodes\n",
    "  * learning rate (arbitrary, but important)\n",
    "* repeat!"
   ]
  },
  {
   "cell_type": "markdown",
   "metadata": {},
   "source": [
    "## Tuning parameters\n",
    "* learning rate\n",
    "* number of nodes\n",
    "* number of layers\n",
    "* number of training iterations"
   ]
  },
  {
   "cell_type": "markdown",
   "metadata": {},
   "source": [
    "## Tools\n",
    "* scikit-learn: General machine learning library, data cleanup, not just deep learning\n",
    "* caffe: Deep learnig framework by Berkeley Vision. Has pre-trained networks, called \"the zoo\"\n",
    "* theano: Lets you define your own algorithms\n",
    "* ipython notebook: a great way to show your work\n",
    "\n"
   ]
  },
  {
   "cell_type": "code",
   "execution_count": 1,
   "metadata": {
    "collapsed": true
   },
   "outputs": [],
   "source": [
    "# see slides for code example"
   ]
  },
  {
   "cell_type": "markdown",
   "metadata": {},
   "source": [
    "# Things to look into next:\n",
    "* Restricted boltzmann machine\n",
    "* recurrent networks\n",
    "* convolutional networks\n",
    "\n",
    "Check out Kaggle competitions"
   ]
  },
  {
   "cell_type": "code",
   "execution_count": null,
   "metadata": {
    "collapsed": true
   },
   "outputs": [],
   "source": []
  },
  {
   "cell_type": "code",
   "execution_count": null,
   "metadata": {
    "collapsed": true
   },
   "outputs": [],
   "source": []
  }
 ],
 "metadata": {
  "kernelspec": {
   "display_name": "Python 2",
   "language": "python",
   "name": "python2"
  },
  "language_info": {
   "codemirror_mode": {
    "name": "ipython",
    "version": 2
   },
   "file_extension": ".py",
   "mimetype": "text/x-python",
   "name": "python",
   "nbconvert_exporter": "python",
   "pygments_lexer": "ipython2",
   "version": "2.7.11"
  }
 },
 "nbformat": 4,
 "nbformat_minor": 0
}
