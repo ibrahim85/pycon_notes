{
 "cells": [
  {
   "cell_type": "markdown",
   "metadata": {},
   "source": [
    "# *How* I built a power debugger\n",
    "## out of the standard library and things I found on the internet\n",
    "\n",
    "Doug Hellmann\n",
    "\n",
    "http://github.com/dhellmann/smiley\n",
    "\n",
    "http://smiley.readthedocs.com\n",
    "\n",
    "A program that runs alongside your application and records information about your code\n",
    "This talk discusses how the tool was built, not about the features of the tool itself"
   ]
  },
  {
   "cell_type": "markdown",
   "metadata": {},
   "source": [
    "# The name\n",
    "Needed a spy name that was a little less obvious than James Bond\n"
   ]
  },
  {
   "cell_type": "markdown",
   "metadata": {},
   "source": [
    "# Features\n",
    "\n",
    "* record calls with data\n",
    "* remote monitoring, local analysis\n",
    "* browse history\n",
    "* learn new tools\n",
    "\n",
    "\n",
    "basically, gdb but without the painful stepping through"
   ]
  },
  {
   "cell_type": "markdown",
   "metadata": {},
   "source": [
    "# 0MQ\n",
    "\n",
    "Decided to try out this new tech as a learning excersise.\n",
    "Read the docs, did some experimentation\n",
    "\n",
    "Made a mistake: chose pub-sub socket early on *but* then realized that delivery isn't guaranteed, so he had to switch to push/pull\n",
    "Luckily, communication was abstracted out in his code... so it wasn't too hard to replace it"
   ]
  },
  {
   "cell_type": "markdown",
   "metadata": {},
   "source": [
    "# The code\n",
    "\n",
    "Using inspect to collect the stack, interesting local variables, and filter out the stdlib stuff\n",
    "0MQ handled setting up a socket either on localhost or either a remote server\n",
    "\n",
    "## The UI\n",
    "started with standalone scripts using argparse\n",
    "later realized that this wasn't very flexible/extensible\n",
    "switched to using `clif` (yet another CLI framework) that uses setuptools entrypoints"
   ]
  },
  {
   "cell_type": "code",
   "execution_count": null,
   "metadata": {
    "collapsed": true
   },
   "outputs": [],
   "source": [
    "smiley run my_script.py  # Start with debugging\n",
    "smiley monitor # print stuff to a console"
   ]
  },
  {
   "cell_type": "markdown",
   "metadata": {},
   "source": [
    "# That's a start\n",
    "\n",
    "but not good enough yet\n",
    "\n",
    "## More features desired\n",
    "* Record data for replaying later\n",
    "  * needed a database\n",
    "  * chose sqlite - because it's in stdlib and it doesn't require installation\n",
    "  * no ORM, just writing sql\n",
    "  \n",
    "* Query API\n",
    "* Complex data types\n",
    "    * A full traceback, serialized to put into the database as JSON"
   ]
  },
  {
   "cell_type": "markdown",
   "metadata": {},
   "source": [
    "# Okay so now you have data in the DB, now what?\n",
    "\n",
    "* realized that the output formatter, publisher, and DB code were doing a lot of the same operations,\n",
    "  * this was an opportunity to make an abstract base class\n",
    "\n",
    "* realized that as the code changed... the line numbers in the replay were wrong\n",
    "  * had to use linecache to store the actual source code in the db"
   ]
  },
  {
   "cell_type": "markdown",
   "metadata": {},
   "source": [
    "# Overall flow\n",
    "\n",
    "* learn something new\n",
    "* apply that to build a new feature\n",
    "* test and refine that feature\n",
    "* fix the bugs that come up\n",
    "* repeat"
   ]
  },
  {
   "cell_type": "markdown",
   "metadata": {},
   "source": [
    "# Now it needs a web view\n",
    "\n",
    "* Used `pecan` and `bootstrap`\n",
    "* Syntax highlighting via `pygments`\n",
    "\n"
   ]
  },
  {
   "cell_type": "markdown",
   "metadata": {},
   "source": [
    "# Adding a profiler\n",
    "\n",
    "discovered that there profiling was built-in using trace, so he turned it on and gave it a UI"
   ]
  },
  {
   "cell_type": "markdown",
   "metadata": {},
   "source": [
    "# Improving the output\n",
    "Noticed a lot of duplicate data for the local variables, used `difflib` to find where vars change and avoid dupes\n",
    "\n",
    "Then, realized that the lines could be collapsed into bigger blocks of source\n",
    "\n",
    "Incrementally, added improvements like pagination, filtering etc.\n",
    "\n",
    "\n"
   ]
  },
  {
   "cell_type": "markdown",
   "metadata": {},
   "source": [
    "# Final thoughts\n",
    "\n",
    "* took about 2 years in spare time\n",
    "* probably would still take months if full time\n",
    "* still not done :)\n",
    "\n",
    "share your experiences and not just the results"
   ]
  },
  {
   "cell_type": "code",
   "execution_count": null,
   "metadata": {
    "collapsed": true
   },
   "outputs": [],
   "source": []
  }
 ],
 "metadata": {
  "kernelspec": {
   "display_name": "Python 2",
   "language": "python",
   "name": "python2"
  },
  "language_info": {
   "codemirror_mode": {
    "name": "ipython",
    "version": 2
   },
   "file_extension": ".py",
   "mimetype": "text/x-python",
   "name": "python",
   "nbconvert_exporter": "python",
   "pygments_lexer": "ipython2",
   "version": "2.7.11"
  }
 },
 "nbformat": 4,
 "nbformat_minor": 0
}
