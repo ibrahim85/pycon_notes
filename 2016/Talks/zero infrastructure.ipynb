{
 "cells": [
  {
   "cell_type": "markdown",
   "metadata": {},
   "source": [
    "# Zero Infrastructure\n",
    "## Building realtime data pipelines with Python and AWS Lambda\n",
    "\n",
    "Mercedes Coyle\n"
   ]
  },
  {
   "cell_type": "markdown",
   "metadata": {},
   "source": [
    "# Use case\n",
    "online video syndication\n",
    "video recommendations, ad targetting\n",
    "results needed immediately\n",
    "\n",
    "# What do we mean realtime?\n",
    "* event based\n",
    "* processes and responsds to requests when they are asked for\n",
    "* no batch processing"
   ]
  },
  {
   "cell_type": "markdown",
   "metadata": {},
   "source": [
    "# Legacy setup\n",
    "\n",
    "* complex system with ELK stack, periodic uploads, and report generation in batches\n",
    "* hard to maintain\n",
    "* logging to disk is slow\n",
    "* scheduled jobs are not intelligent\n",
    "* sometimes got wrong data\n",
    "* sometimes missing data\n",
    "\n",
    "## What they really want\n",
    "* faster data analysis\n",
    "* realtime reporting\n",
    "\n",
    "\n",
    "## Requirements for the new system\n",
    "* route data and store it in S3\n",
    "* Streaming analytics\n",
    "* reduced complexity\n",
    "* data source and storage agnostic\n",
    "* flexible"
   ]
  },
  {
   "cell_type": "markdown",
   "metadata": {},
   "source": [
    "# New design\n",
    "(see slides for diagram)\n"
   ]
  },
  {
   "cell_type": "markdown",
   "metadata": {},
   "source": [
    "# AWS Serverless\n",
    "\n",
    "## API Gateway\n",
    "* easy to use and works with other amazon tools\n",
    "* \n",
    "\n",
    "## Kinesis streams\n",
    "Queuing service where read throughput is twice as fast as input\n",
    "* multiple client/subscriber http put queuing stream\n",
    "* 7 day data retention\n",
    "* horizontally scalable\n",
    "\n",
    "## S3\n",
    "simple storage service\n",
    "* Stores file objects (not a normal file system)\n",
    "* cheap\n",
    "* stable\n",
    "* can't interact like a normal volume\n",
    "\n",
    "## EMR\n",
    "elastic map reduce\n",
    "\n",
    "used for periodic batch jobs\n",
    "* managed Hadoop cluster\n",
    "* spin up, process, destroy\n",
    "\n",
    "\n",
    "## AWS Lambda\n",
    "compute platform\n",
    "* Event driven push/pul\n",
    "* auto scaling\n",
    "* supports python, nodejs and java\n",
    "* stateless and async\n",
    "* can be scheduled (like cron)"
   ]
  },
  {
   "cell_type": "markdown",
   "metadata": {},
   "source": [
    "# What is a Lambda function?\n",
    "an event handler mostly\n",
    "\n",
    "    "
   ]
  },
  {
   "cell_type": "code",
   "execution_count": null,
   "metadata": {
    "collapsed": true
   },
   "outputs": [],
   "source": [
    "def event_handler(event, context):\n",
    "    # your cool stuff here"
   ]
  },
  {
   "cell_type": "markdown",
   "metadata": {},
   "source": [
    "* Event data comes in as a dictionary (JSON)\n",
    "* the `context` object has useful informatino about the running functino"
   ]
  },
  {
   "cell_type": "markdown",
   "metadata": {},
   "source": [
    "## Lambda anatomy\n",
    "\n",
    "* key feature is statelessness\n",
    "* lambda functions don't know about previous events\n",
    "* auto retry on event data until success or expiration of the request ( could be up to 7 days )\n",
    "\n",
    "### Logging and monitoring\n",
    "any print or logging statement is logged to `CloudWatch`\n",
    "\n",
    "the memory usage and run time is also logged\n",
    "\n",
    "since you're charged in increments based on compute time, you want to use as much as possible without going into the next tier\n",
    "\n",
    "There's a built-in metrics dashboard showing duration, count, errors and throttled invocations (happens when you hit the cap)\n",
    "\n",
    "\n",
    "## Testing lambda\n",
    "Code is standalone, so unit tests are easy\n",
    "\n",
    "The event and context should be mocked out\n",
    "\n",
    "you can also invoke manually using the AWS console\n",
    "\n",
    "\n",
    "## Packaging\n",
    "any dependencies need to be zipped up and deployed\n",
    "\n",
    "`pip install <module> -t /project-dir/` and zip that dir up\n",
    "\n",
    "or send up the whole virtualenv\n",
    "\n",
    "## Deployment\n",
    "AWS CLI from travis/jenkins CI job\n",
    "\n",
    "*look into cloud formation template*\n",
    "\n",
    "Or, you can upload a zip to s3 and deploy it from there\n"
   ]
  },
  {
   "cell_type": "markdown",
   "metadata": {},
   "source": [
    "# Summary\n",
    "python 2.7 only\n",
    "\n",
    "it's easier to make functions than servers... so this makes you faster\n",
    "\n",
    "allows you to focus more on business goals, and less on infrastructure\n",
    "\n",
    "* the operating costs of this setup can get large\n",
    "  * as such, it's not going to be a long-term solution\n",
    "    * but... it works great for a PoC or developing something new\n",
    "    \n",
    "beware of vendor lock-in\n",
    "\n",
    "\n",
    "test library:\n",
    "\n",
    "https://github.com/spulec/moto\n",
    "\n",
    "\n"
   ]
  },
  {
   "cell_type": "code",
   "execution_count": null,
   "metadata": {
    "collapsed": true
   },
   "outputs": [],
   "source": []
  },
  {
   "cell_type": "code",
   "execution_count": null,
   "metadata": {
    "collapsed": true
   },
   "outputs": [],
   "source": []
  },
  {
   "cell_type": "code",
   "execution_count": null,
   "metadata": {
    "collapsed": true
   },
   "outputs": [],
   "source": []
  },
  {
   "cell_type": "code",
   "execution_count": null,
   "metadata": {
    "collapsed": true
   },
   "outputs": [],
   "source": []
  }
 ],
 "metadata": {
  "kernelspec": {
   "display_name": "Python 2",
   "language": "python",
   "name": "python2"
  },
  "language_info": {
   "codemirror_mode": {
    "name": "ipython",
    "version": 2
   },
   "file_extension": ".py",
   "mimetype": "text/x-python",
   "name": "python",
   "nbconvert_exporter": "python",
   "pygments_lexer": "ipython2",
   "version": "2.7.11"
  }
 },
 "nbformat": 4,
 "nbformat_minor": 0
}
