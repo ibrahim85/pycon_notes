{
 "cells": [
  {
   "cell_type": "markdown",
   "metadata": {},
   "source": [
    "# Magic Wormhole\n",
    "## Simple secure file transfer\n",
    "\n",
    "Brian Warner\n",
    "\n",
    "http://www.lothar.com/~warner/MagicWormhole-PyCon2016.pdf\n",
    "\n",
    "\n",
    "http://magic-wormhole.io\n",
    "\n",
    "\n",
    "Video:\n",
    "https://www.youtube.com/watch?v=tgve3Nb1Xjk\n",
    "\n",
    "> `pip install magic-wormhole`"
   ]
  },
  {
   "cell_type": "markdown",
   "metadata": {},
   "source": [
    "# What does it do?\n",
    "* Securely move a file from one computer to another\n",
    "  * or a directory\n",
    "  * or a string\n",
    "* Uses a weak key to negotiate a strong key\n",
    "* Less typing than the alternatives\n",
    "  \n",
    "You do this already\n",
    "* SSH\n",
    "* Email\n",
    "* Dropbox\n",
    "* etc\n",
    "\n",
    "\n",
    "Claim:\n",
    "> This is easier than all other secure tools, especially for moving to an unrelated computer\n"
   ]
  },
  {
   "cell_type": "markdown",
   "metadata": {},
   "source": [
    "# Usage"
   ]
  },
  {
   "cell_type": "code",
   "execution_count": null,
   "metadata": {
    "collapsed": true
   },
   "outputs": [],
   "source": [
    "pip install magic-wormhole\n"
   ]
  },
  {
   "cell_type": "markdown",
   "metadata": {},
   "source": [
    "## Sender"
   ]
  },
  {
   "cell_type": "code",
   "execution_count": null,
   "metadata": {
    "collapsed": true
   },
   "outputs": [],
   "source": [
    "wormhole send foobar.pdf\n",
    "# Generates an easy to say, unambiguous code for one-time use\n",
    "# E.g. - 7-guitarist-revenge"
   ]
  },
  {
   "cell_type": "markdown",
   "metadata": {},
   "source": [
    "## Reciever"
   ]
  },
  {
   "cell_type": "code",
   "execution_count": null,
   "metadata": {
    "collapsed": true
   },
   "outputs": [],
   "source": [
    "wormhole recieve\n",
    "# wormhole prompts for the code"
   ]
  },
  {
   "cell_type": "markdown",
   "metadata": {},
   "source": [
    "# How does it work?\n",
    "\n",
    "Two peers share a one-time-use code, which creates a shared secret that you don't have to transfer\n",
    "\n",
    "## Rendezvous Server\n",
    "two clients perform their initial messages on this server\n",
    "\n",
    "### typical wormhole code\n",
    "1-liberty-assume\n",
    "\n",
    "* The first part is the channel ID\n",
    "\n",
    "## PAKE-based security\n",
    "pasword authenticated key exchange\n",
    "\n",
    "allows two peers to turn one weak shared secret into a strong shared session key\n",
    "\n",
    "given any short string, it produces a longer string longer and more secure. The key can only be produced by that same initial password\n",
    "\n",
    "> `pip install spake2`\n",
    "\n",
    "from weak secret and some interaction, you can get a strong secret\n",
    "\n",
    "passive eavesdropper gets no information about the session key\n",
    "\n",
    "active man in the middle gets one gues per protocol run to try and guess\n",
    " * a failed guess gets 0 information\n",
    " * a failed guess is visible to users\n",
    " \n",
    "# Wormhole codes\n",
    "uses a dictionary (by default) of words that are designed to be unambiguous\n",
    "sender and reciver have to use the same code"
   ]
  },
  {
   "cell_type": "code",
   "execution_count": 2,
   "metadata": {
    "collapsed": true
   },
   "outputs": [],
   "source": [
    "# See slides for code"
   ]
  },
  {
   "cell_type": "markdown",
   "metadata": {},
   "source": [
    "# Use cases\n",
    "* delivering a credential\n",
    "* pairing devices\n",
    "* provisioning a client\n"
   ]
  },
  {
   "cell_type": "markdown",
   "metadata": {},
   "source": [
    "# Add PAKE to your toolbox\n",
    "\n",
    "* crypto tools disseminate too slowly\n",
    "* we need good examples and helpful libraries\n",
    "* file transfer is just a foot in the door, PAKE is the rest"
   ]
  }
 ],
 "metadata": {
  "kernelspec": {
   "display_name": "Python 2",
   "language": "python",
   "name": "python2"
  },
  "language_info": {
   "codemirror_mode": {
    "name": "ipython",
    "version": 2
   },
   "file_extension": ".py",
   "mimetype": "text/x-python",
   "name": "python",
   "nbconvert_exporter": "python",
   "pygments_lexer": "ipython2",
   "version": "2.7.11"
  }
 },
 "nbformat": 4,
 "nbformat_minor": 0
}
