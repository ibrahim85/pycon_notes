{
 "cells": [
  {
   "cell_type": "markdown",
   "metadata": {},
   "source": [
    "# Statistics for hackers\n",
    "\n",
    "Jake Vanderplas\n",
    "\n",
    "https://speakerdeck.com/jakevdp/statistics-for-hackers\n",
    "\n"
   ]
  },
  {
   "cell_type": "markdown",
   "metadata": {},
   "source": [
    "# What do we mean by hacker?\n",
    "A person whose natural approach to problem solving involves writing code"
   ]
  },
  {
   "cell_type": "markdown",
   "metadata": {},
   "source": [
    "# If you can write a `for` loop, you can do statistics\n",
    "\n",
    "> Sometimes the questions are complicated and the answers are simple\n",
    "  - Dr. Seuss\n",
    " \n",
    "# Warm up: coin toss\n",
    "\n",
    "  you flip a coin several times and notice a very skewed result... is it a fair coin?\n",
    "  \n",
    "\n",
    "In statistics:\n",
    "* Assume the skeptic is correct. Test the `Null Hypothesis`\n",
    "* What is the chance of a fair coin landing heads `X` times in a row\n",
    "\n",
    "Visually, you can plot the distribution, and find `X`, and find the probability that the result is `X` or better\n"
   ]
  },
  {
   "cell_type": "markdown",
   "metadata": {},
   "source": [
    "# Recipes for approaching stats with code"
   ]
  },
  {
   "cell_type": "markdown",
   "metadata": {},
   "source": [
    "## Simulation"
   ]
  },
  {
   "cell_type": "markdown",
   "metadata": {},
   "source": [
    "In code you can just simulate the sampling distribution directly"
   ]
  },
  {
   "cell_type": "code",
   "execution_count": null,
   "metadata": {
    "collapsed": true
   },
   "outputs": [],
   "source": [
    "M = 0\n",
    "for i in range(10000):\n",
    "    trials = randint(2, size = 30)\n",
    "    if (trials.su() >= 22):\n",
    "        M +=1\n",
    "        \n",
    "#..."
   ]
  },
  {
   "cell_type": "markdown",
   "metadata": {},
   "source": [
    "## Shuffling\n",
    "say you took a sample (like some test results) and you have two groups to compare\n",
    "\n",
    "is the effect that you see significant?\n",
    "\n",
    "The traditional approach here is to do a \"T test\" (from stats 101)\n",
    "\n",
    "> insert \"i have no idea what i'm doing\" meme here\n",
    "\n",
    "\n",
    "\n",
    "### You could import some `statsmodels` stuff to actually let a computer do a t test\n",
    "but still... this is for stats people, and we're not all stats people\n",
    "\n",
    "\n",
    "### How to simulate\n",
    "we can't simulate our \"student\" who took the test\n",
    "\n",
    "Instead, what we can do is shuffle the \"labels\" across the results\n",
    "\n",
    "__motivation__: in the null hypothesis, there's no difference between the groups, so the labels won't matter\n",
    "\n",
    "\n",
    "so in code, you repeatedly:\n",
    "* shuffle labels\n",
    "* rearrange\n",
    "* compute the means\n",
    "\n",
    "This works well when the `Null Hypothesis` assumes that the groups are identical\n",
    "\n",
    "__note__: you still have to beware of sampling bias (like all methods). Your have to have representative samples\n"
   ]
  },
  {
   "cell_type": "markdown",
   "metadata": {},
   "source": [
    "## Bootstrapping\n",
    "\n",
    "Given a series of observations, what would be the average out to infinity?\n",
    "How reliable is this measurement?\n",
    "\n",
    "\n",
    "* We don't have a way to generate a model\n",
    "* we don't have groups to compare\n",
    "\n",
    "\n",
    "Idea: simulate distribution by drawing samples (with replacement)\n",
    "\n",
    "Motivation: The data itself estimates its own distribution\n",
    "\n",
    "\n",
    "s repeat this several thousand times"
   ]
  },
  {
   "cell_type": "code",
   "execution_count": null,
   "metadata": {
    "collapsed": true
   },
   "outputs": [],
   "source": [
    "# see sample code on slides\n"
   ]
  },
  {
   "cell_type": "markdown",
   "metadata": {},
   "source": [
    "This can also be used to perform linear regression to see the relationship between two variables\n",
    "\n",
    "\n",
    "Notes on bootstrapping:\n",
    "\n",
    "* doesn't work for rank-based stats (e.g. max value)\n",
    "* works poorly on small samples ( N > 20 is a good rule)\n",
    "* again, beware of sample bias"
   ]
  },
  {
   "cell_type": "markdown",
   "metadata": {},
   "source": [
    "## Cross Validation\n",
    "(like machine learning)\n",
    "\n",
    "Say you've found some correlation between two variables: (e.g. temperature and sales)\n",
    "\n",
    "How do you choose which model (i.e. linear, quadratic, etc) fits the data best?\n",
    "\n",
    "In general, a more flexible/complex model will have a lower RMS error\n",
    "\n",
    "however... RMS error doesn't tell the whole story\n",
    "\n",
    "\n",
    "### Classic method\n",
    "\n",
    "chi-square distribution (fancy maths we forgot and don't want to have to re-learn)\n",
    "\n",
    "### The hacker way\n",
    "\n",
    "* take different subsets of the data, and fit the models you are comparing\n",
    "* switch the data sets around\n",
    "* calculate the RMS error\n",
    "* repeat this over and over\n",
    "\n",
    "this way we can see which model fits best, while avoiding the risk of \"overfitting\" the data\n",
    "\n",
    "\n",
    "### Notes on cross validation\n",
    "* 2 fold cross validation - our example\n",
    "* Other methods exist\n",
    "  * check sci-kit learn docs\n",
    "* this is the go-to method for evaluating models in machine learning\n"
   ]
  },
  {
   "cell_type": "markdown",
   "metadata": {},
   "source": [
    "# Beyond this talk\n",
    "\n",
    "* Bayesian methods ( Cam Davidson-Pilon)\n",
    "* Selection bias (Chris Fonnesbeck's Scipy 2015 talk)\n",
    "* Detailed considerations\n",
    "  * Statistics is easy (Shasha & Wilson)\n",
    " \n"
   ]
  },
  {
   "cell_type": "code",
   "execution_count": null,
   "metadata": {
    "collapsed": true
   },
   "outputs": [],
   "source": []
  },
  {
   "cell_type": "code",
   "execution_count": null,
   "metadata": {
    "collapsed": true
   },
   "outputs": [],
   "source": []
  },
  {
   "cell_type": "code",
   "execution_count": null,
   "metadata": {
    "collapsed": true
   },
   "outputs": [],
   "source": []
  },
  {
   "cell_type": "code",
   "execution_count": null,
   "metadata": {
    "collapsed": true
   },
   "outputs": [],
   "source": []
  },
  {
   "cell_type": "code",
   "execution_count": null,
   "metadata": {
    "collapsed": true
   },
   "outputs": [],
   "source": []
  },
  {
   "cell_type": "code",
   "execution_count": null,
   "metadata": {
    "collapsed": true
   },
   "outputs": [],
   "source": []
  },
  {
   "cell_type": "code",
   "execution_count": null,
   "metadata": {
    "collapsed": true
   },
   "outputs": [],
   "source": []
  },
  {
   "cell_type": "code",
   "execution_count": null,
   "metadata": {
    "collapsed": true
   },
   "outputs": [],
   "source": []
  },
  {
   "cell_type": "code",
   "execution_count": null,
   "metadata": {
    "collapsed": true
   },
   "outputs": [],
   "source": []
  },
  {
   "cell_type": "code",
   "execution_count": null,
   "metadata": {
    "collapsed": true
   },
   "outputs": [],
   "source": []
  },
  {
   "cell_type": "code",
   "execution_count": null,
   "metadata": {
    "collapsed": true
   },
   "outputs": [],
   "source": []
  }
 ],
 "metadata": {
  "kernelspec": {
   "display_name": "Python 2",
   "language": "python",
   "name": "python2"
  },
  "language_info": {
   "codemirror_mode": {
    "name": "ipython",
    "version": 2
   },
   "file_extension": ".py",
   "mimetype": "text/x-python",
   "name": "python",
   "nbconvert_exporter": "python",
   "pygments_lexer": "ipython2",
   "version": "2.7.11"
  }
 },
 "nbformat": 4,
 "nbformat_minor": 0
}
