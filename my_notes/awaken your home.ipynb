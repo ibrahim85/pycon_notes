{
 "cells": [
  {
   "cell_type": "markdown",
   "metadata": {},
   "source": [
    "# Awaken your home\n",
    "## Python and the internet of things\n",
    "\n",
    "This talk is an introduction to the Open Source \"Home Assistant\" project.\n",
    "\n",
    "Paulus Shousten\n",
    "\n",
    "# Why do we need this?\n",
    "There are no widely-adopted standard for these \"smart\" things.\n",
    "Everybody has their own cloud.\n",
    "This creates the \"internet of silos\".\n",
    "\n",
    "E.g - Your lights don't know about your thermostat.\n",
    "\n",
    "# What is a hub?\n",
    "\n",
    "A hub sends out commands to these IoT devices.\n",
    "It can also get information from the IoT devices.\n",
    "\n",
    "## State\n",
    "Devices can have a state\n",
    "e.g.\n",
    "* Light = on\n",
    "  * brightness = 60%\n",
    "  * color = red\n",
    "\n",
    "\n",
    "## Events\n",
    "* State of light has changed\n",
    "* A user has been detected\n",
    "\n",
    "# The core of home automation\n",
    "Automation rules\n",
    "\n",
    "* Triggered by an event\n",
    "* Optional conditions based on current state of devices\n",
    "* execute some command\n",
    "\n",
    "e.g. - When user is present, and it is after sunset, turn on the lights"
   ]
  },
  {
   "cell_type": "markdown",
   "metadata": {},
   "source": [
    "# Enter Home Assistant\n",
    "\n",
    "github: home-assistant/home-assistant\n",
    "\n",
    "* Open source software, under MIT license\n",
    "* Self-hosted\n",
    "* Tracks people and things on a map\n",
    "* Comes with a web app that works well on mobile\n",
    "* Tracks object states over time\n",
    "* big library of built-in components that integrate with devices and services\n",
    "  * or create your own\n"
   ]
  },
  {
   "cell_type": "markdown",
   "metadata": {},
   "source": [
    "# Components of home assistant\n",
    "\n",
    "* Event bus\n",
    "* State machine - holds the state of all entities\n",
    "  * On change, publishes an `on_change` event to the Event bus\n",
    "* Service registry - allows services to listen to events\n",
    "* Timer - `time_changed` event fired every second\n",
    "\n",
    "Each component in Home Assistant is completely isolated. It only \"knows\" about its own state and events.\n",
    "\n",
    "\n",
    "\n",
    "## Entity components\n",
    "\n",
    "Abstract base class for components\n",
    "Each device type has an entity component: light, switch, etc\n",
    "Entity components expose functionality (e.g. `turn_on()`), and state"
   ]
  },
  {
   "cell_type": "code",
   "execution_count": 1,
   "metadata": {
    "collapsed": true
   },
   "outputs": [],
   "source": [
    "# See slide for example code"
   ]
  },
  {
   "cell_type": "code",
   "execution_count": null,
   "metadata": {
    "collapsed": true
   },
   "outputs": [],
   "source": []
  },
  {
   "cell_type": "code",
   "execution_count": null,
   "metadata": {
    "collapsed": true
   },
   "outputs": [],
   "source": []
  },
  {
   "cell_type": "code",
   "execution_count": null,
   "metadata": {
    "collapsed": true
   },
   "outputs": [],
   "source": []
  },
  {
   "cell_type": "code",
   "execution_count": null,
   "metadata": {
    "collapsed": true
   },
   "outputs": [],
   "source": []
  },
  {
   "cell_type": "code",
   "execution_count": null,
   "metadata": {
    "collapsed": true
   },
   "outputs": [],
   "source": []
  },
  {
   "cell_type": "code",
   "execution_count": null,
   "metadata": {
    "collapsed": true
   },
   "outputs": [],
   "source": []
  },
  {
   "cell_type": "code",
   "execution_count": null,
   "metadata": {
    "collapsed": true
   },
   "outputs": [],
   "source": []
  },
  {
   "cell_type": "code",
   "execution_count": null,
   "metadata": {
    "collapsed": true
   },
   "outputs": [],
   "source": []
  },
  {
   "cell_type": "code",
   "execution_count": null,
   "metadata": {
    "collapsed": true
   },
   "outputs": [],
   "source": []
  }
 ],
 "metadata": {
  "kernelspec": {
   "display_name": "Python 2",
   "language": "python",
   "name": "python2"
  },
  "language_info": {
   "codemirror_mode": {
    "name": "ipython",
    "version": 2
   },
   "file_extension": ".py",
   "mimetype": "text/x-python",
   "name": "python",
   "nbconvert_exporter": "python",
   "pygments_lexer": "ipython2",
   "version": "2.7.11"
  }
 },
 "nbformat": 4,
 "nbformat_minor": 0
}
