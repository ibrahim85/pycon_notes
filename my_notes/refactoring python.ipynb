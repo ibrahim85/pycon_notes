{
 "cells": [
  {
   "cell_type": "markdown",
   "metadata": {},
   "source": [
    "# Refactoring Python\n",
    "## Why and how to restructure your code\n",
    "\n",
    "Brett Slatkin\n",
    "github.com/bslatkin/pycon2016\n",
    "\n",
    "Repeatedly reorganize and rewrite code, until it is _obvious_ to a new reader."
   ]
  },
  {
   "cell_type": "markdown",
   "metadata": {},
   "source": [
    "## When do you refactor?\n",
    "* in advance of adding big new features\n",
    "* when you notice that it's hard to write tests\n",
    "* DRY: when you are copy-pasting\n",
    "* when your code is fragile\n",
    "* to eliminate complexity"
   ]
  },
  {
   "cell_type": "markdown",
   "metadata": {},
   "source": [
    "# When?\n",
    "Great programmers spend almost half of the time refactoring, and on docs and style"
   ]
  },
  {
   "cell_type": "markdown",
   "metadata": {},
   "source": [
    "# How?\n",
    "* Rename, split, move\n",
    "* simplify (take features away that you didn't need)\n",
    "* redraw boundaries\n",
    "  * between classes, and modules"
   ]
  },
  {
   "cell_type": "code",
   "execution_count": 1,
   "metadata": {
    "collapsed": true
   },
   "outputs": [],
   "source": [
    "# Go read Martin Fowler's book on Refactoring... except it's for Java\n",
    "# Or the more recent one.... except it's for Ruby programmers\n",
    "# Brett Slatkin's book `Effective Python` has some sections on this topic"
   ]
  },
  {
   "cell_type": "markdown",
   "metadata": {},
   "source": [
    "# Prereqs\n",
    "* Tests: you need tests to make sure you aren't breaking the code\n",
    "* source control: you're gonna screw up, and you need a way to roll back\n",
    "* be willing to make mistakes"
   ]
  },
  {
   "cell_type": "code",
   "execution_count": 2,
   "metadata": {
    "collapsed": true
   },
   "outputs": [],
   "source": [
    "# Refer to slides for code examples"
   ]
  },
  {
   "cell_type": "markdown",
   "metadata": {},
   "source": [
    "# Refactoring techniques\n",
    "\n",
    "## Extract variables:\n",
    "* complicated `if` statements can have their expressions pulled out as variables\n",
    "* or functions\n",
    "  * combining these two also helps performance\n",
    "\n",
    "If statements always grow... so eventually:\n",
    "    \n",
    "## Extract variables into Classes\n",
    "* An instance of a class can implement a `__bool__()` method, and define the conditions inside that class\n",
    "* this also makes it easier to test"
   ]
  },
  {
   "cell_type": "markdown",
   "metadata": {},
   "source": [
    "## Extract class and move fields\n",
    "\n",
    "_see slides_: I have a class that has grown organically, and has a bunch of properties we added as we needed them\n",
    "\n",
    "### How to change interfaces\n",
    "* Add an improved interface\n",
    "  * maintain backward compatibility\n",
    "  * issue warnings for old usage\n",
    "  \n",
    "* migrate code to new usage\n",
    "* remove old code path\n",
    "\n",
    "#### Python's built in warnings:\n",
    "`import warnings`\n",
    "`warnings.warn('Helpful message') `\n",
    "You can run python and tell it to either just warn, or actually turn warnings into errors\n",
    "\n",
    "### Redrawing boundaries\n",
    "* Fail if someone is mixing new and old  e.g. `raise TypeErrror`\n",
    "\n",
    "* Split classes with optional `__init__` args\n",
    "* use `@property` to move methods\n",
    "  * don't forget the `@property.setter` too!\n",
    "* issue warnings for old usage before removing them\n",
    "\n",
    "\n",
    "\n",
    "#### How to remove an existing positional arg\n",
    "* replace the last positional arg with a kwarg\n",
    "* detect new vs old style\n",
    "* handle the old case in the expected way\n",
    "* Issue a warning if old warning is detected"
   ]
  },
  {
   "cell_type": "markdown",
   "metadata": {},
   "source": [
    "# Tombstones\n",
    "To help people find errors when you've already removed attributes, \n",
    "leave `@properties` that simply throw errors when someone tries to access something that is no longer there"
   ]
  },
  {
   "cell_type": "markdown",
   "metadata": {},
   "source": [
    "# Other stuff to check out\n",
    " Doug hellmann PMOTW\n",
    " Jack Diederich: Stop using Classes\n",
    " Raymond Hettinger: Beyond PEP8"
   ]
  },
  {
   "cell_type": "code",
   "execution_count": null,
   "metadata": {
    "collapsed": true
   },
   "outputs": [],
   "source": []
  }
 ],
 "metadata": {
  "kernelspec": {
   "display_name": "Python 2",
   "language": "python",
   "name": "python2"
  },
  "language_info": {
   "codemirror_mode": {
    "name": "ipython",
    "version": 2
   },
   "file_extension": ".py",
   "mimetype": "text/x-python",
   "name": "python",
   "nbconvert_exporter": "python",
   "pygments_lexer": "ipython2",
   "version": "2.7.11"
  }
 },
 "nbformat": 4,
 "nbformat_minor": 0
}
